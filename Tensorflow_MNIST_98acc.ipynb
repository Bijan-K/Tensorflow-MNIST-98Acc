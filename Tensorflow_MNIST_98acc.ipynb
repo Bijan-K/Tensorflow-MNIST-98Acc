{
  "nbformat": 4,
  "nbformat_minor": 0,
  "metadata": {
    "colab": {
      "provenance": [],
      "mount_file_id": "1UU0JcZqDeCT8TVXuX1AksY_N2DR5_YLr",
      "authorship_tag": "ABX9TyMDVllmYJsqLM4qmJ1yvs/q",
      "include_colab_link": true
    },
    "kernelspec": {
      "name": "python3",
      "display_name": "Python 3"
    },
    "language_info": {
      "name": "python"
    }
  },
  "cells": [
    {
      "cell_type": "markdown",
      "metadata": {
        "id": "view-in-github",
        "colab_type": "text"
      },
      "source": [
        "<a href=\"https://colab.research.google.com/github/Bijan-K/Tensorflow_MNIST_98Acc/blob/main/Tensorflow_MNIST_98acc.ipynb\" target=\"_parent\"><img src=\"https://colab.research.google.com/assets/colab-badge.svg\" alt=\"Open In Colab\"/></a>"
      ]
    },
    {
      "cell_type": "code",
      "execution_count": 1,
      "metadata": {
        "id": "jurUUzGIknOK"
      },
      "outputs": [],
      "source": [
        "!pip install tensorflow\n",
        "!pip install efficientnet"
      ]
    },
    {
      "cell_type": "code",
      "source": [
        "import tensorflow as tf\n",
        "from tensorflow import keras\n",
        "from tensorflow.keras import layers\n",
        "from tensorflow.keras.datasets import mnist\n",
        "from efficientnet.tfkeras import EfficientNetB0"
      ],
      "metadata": {
        "id": "gSHhEA2ckoEW"
      },
      "execution_count": 2,
      "outputs": []
    },
    {
      "cell_type": "code",
      "source": [
        "(x_train, y_train), (x_test, y_test) = mnist.load_data()\n",
        "x_train.shape"
      ],
      "metadata": {
        "colab": {
          "base_uri": "https://localhost:8080/"
        },
        "id": "Z4arjCZJkqTJ",
        "outputId": "d0471f2f-1c48-4212-cc3f-881f0c2547a2"
      },
      "execution_count": 20,
      "outputs": [
        {
          "output_type": "execute_result",
          "data": {
            "text/plain": [
              "(60000, 28, 28)"
            ]
          },
          "metadata": {},
          "execution_count": 20
        }
      ]
    },
    {
      "cell_type": "code",
      "source": [
        "x_train = x_train.astype(\"float32\") / 255.0\n",
        "x_test = x_test.astype(\"float32\") / 255.0\n",
        "\n",
        "# Add a channel dimension to the images\n",
        "x_train = x_train[..., tf.newaxis]\n",
        "x_test = x_test[..., tf.newaxis]\n",
        "\n",
        "x_train.shape"
      ],
      "metadata": {
        "id": "VnvJjqdhuxpd"
      },
      "execution_count": null,
      "outputs": []
    },
    {
      "cell_type": "code",
      "source": [
        "x_train = tf.image.resize(x_train, [32, 32])\n",
        "x_test = tf.image.resize(x_test, [32, 32])"
      ],
      "metadata": {
        "colab": {
          "base_uri": "https://localhost:8080/"
        },
        "id": "LluQgLWfttso",
        "outputId": "0bae787b-c972-47a0-c192-3a72e3f77ed6"
      },
      "execution_count": 24,
      "outputs": [
        {
          "output_type": "execute_result",
          "data": {
            "text/plain": [
              "TensorShape([60000, 32, 32, 1])"
            ]
          },
          "metadata": {},
          "execution_count": 24
        }
      ]
    },
    {
      "cell_type": "code",
      "source": [
        "model = keras.Sequential(\n",
        "    [\n",
        "        layers.Input(shape=(32, 32, 1)),\n",
        "        layers.experimental.preprocessing.Rescaling(1.0 / 255),\n",
        "        EfficientNetB0(include_top=False,weights=None, input_shape=(32, 32, 1)),\n",
        "        layers.GlobalAveragePooling2D(),\n",
        "        layers.Dropout(0.2),\n",
        "        layers.Dense(10),\n",
        "    ]\n",
        ")"
      ],
      "metadata": {
        "id": "nXGyMjrlktkd"
      },
      "execution_count": 25,
      "outputs": []
    },
    {
      "cell_type": "code",
      "source": [
        "model.compile(\n",
        "    optimizer=keras.optimizers.Adam(learning_rate=1e-3),\n",
        "    loss=keras.losses.SparseCategoricalCrossentropy(from_logits=True),\n",
        "    metrics=[\"accuracy\"],\n",
        ")\n",
        "x_train.shape"
      ],
      "metadata": {
        "colab": {
          "base_uri": "https://localhost:8080/"
        },
        "id": "dCaZA9oNkv-G",
        "outputId": "f65582a5-9713-4bd4-b7fe-44454ee2fe8d"
      },
      "execution_count": 26,
      "outputs": [
        {
          "output_type": "execute_result",
          "data": {
            "text/plain": [
              "TensorShape([60000, 32, 32, 1])"
            ]
          },
          "metadata": {},
          "execution_count": 26
        }
      ]
    },
    {
      "cell_type": "code",
      "source": [
        "model.fit(x_train, y_train, batch_size=64, epochs=10, validation_split=0.2)\n",
        "# x_train.shape"
      ],
      "metadata": {
        "colab": {
          "base_uri": "https://localhost:8080/"
        },
        "id": "8bphHetQkzfF",
        "outputId": "bad10135-2cb7-43df-994f-40b23a0c8281"
      },
      "execution_count": 28,
      "outputs": [
        {
          "output_type": "stream",
          "name": "stdout",
          "text": [
            "Epoch 1/10\n",
            "750/750 [==============================] - 561s 714ms/step - loss: 0.6251 - accuracy: 0.8051 - val_loss: 0.2827 - val_accuracy: 0.9183\n",
            "Epoch 2/10\n",
            "750/750 [==============================] - 519s 692ms/step - loss: 0.1587 - accuracy: 0.9523 - val_loss: 0.1311 - val_accuracy: 0.9613\n",
            "Epoch 3/10\n",
            "750/750 [==============================] - 517s 689ms/step - loss: 0.1028 - accuracy: 0.9701 - val_loss: 0.0990 - val_accuracy: 0.9722\n",
            "Epoch 4/10\n",
            "750/750 [==============================] - 518s 690ms/step - loss: 0.0822 - accuracy: 0.9763 - val_loss: 0.1023 - val_accuracy: 0.9692\n",
            "Epoch 5/10\n",
            "750/750 [==============================] - 519s 692ms/step - loss: 0.0651 - accuracy: 0.9809 - val_loss: 0.1034 - val_accuracy: 0.9731\n",
            "Epoch 6/10\n",
            "750/750 [==============================] - 515s 687ms/step - loss: 0.0677 - accuracy: 0.9815 - val_loss: 0.1504 - val_accuracy: 0.9600\n",
            "Epoch 7/10\n",
            "750/750 [==============================] - 515s 687ms/step - loss: 0.0523 - accuracy: 0.9855 - val_loss: 0.0987 - val_accuracy: 0.9752\n",
            "Epoch 8/10\n",
            "750/750 [==============================] - 512s 683ms/step - loss: 0.0581 - accuracy: 0.9840 - val_loss: 0.0637 - val_accuracy: 0.9837\n",
            "Epoch 9/10\n",
            "750/750 [==============================] - 509s 679ms/step - loss: 0.0351 - accuracy: 0.9896 - val_loss: 0.0795 - val_accuracy: 0.9762\n",
            "Epoch 10/10\n",
            "750/750 [==============================] - 522s 696ms/step - loss: 0.0584 - accuracy: 0.9837 - val_loss: 0.0552 - val_accuracy: 0.9854\n"
          ]
        },
        {
          "output_type": "execute_result",
          "data": {
            "text/plain": [
              "<keras.callbacks.History at 0x7ed67e0d4dc0>"
            ]
          },
          "metadata": {},
          "execution_count": 28
        }
      ]
    },
    {
      "cell_type": "code",
      "source": [
        "model.evaluate(x_test, y_test)"
      ],
      "metadata": {
        "colab": {
          "base_uri": "https://localhost:8080/"
        },
        "id": "SZCBM3lUk0OZ",
        "outputId": "eadebfe9-c5a7-404d-b312-364a85f6bec4"
      },
      "execution_count": 29,
      "outputs": [
        {
          "output_type": "stream",
          "name": "stdout",
          "text": [
            "313/313 [==============================] - 18s 56ms/step - loss: 0.0516 - accuracy: 0.9865\n"
          ]
        },
        {
          "output_type": "execute_result",
          "data": {
            "text/plain": [
              "[0.051564451307058334, 0.9865000247955322]"
            ]
          },
          "metadata": {},
          "execution_count": 29
        }
      ]
    },
    {
      "cell_type": "code",
      "source": [
        "model.save(\"my_model.h5\")"
      ],
      "metadata": {
        "id": "GG_xwO7C0g2W"
      },
      "execution_count": 30,
      "outputs": []
    }
  ]
}